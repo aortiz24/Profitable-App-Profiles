{
 "cells": [
  {
   "cell_type": "markdown",
   "metadata": {
    "collapsed": true
   },
   "source": [
    "# Analyzing ad selection\n",
    "\n",
    "Ads that run in free Android and iOS mobile apps available on Google Play and the App Store are our main source of revenue. To assist our developers to enhance customer experience and increase revenue to our company, an analysis of what content our customers prefer was conducted."
   ]
  },
  {
   "cell_type": "markdown",
   "metadata": {},
   "source": [
    "## Downloading The Data\n",
    "The Google Play data set contains approximately 10,000 Android apps; the data was collected in August 2018. You can download the data set [here](https://dq-content.s3.amazonaws.com/350/googleplaystore.csv).\n",
    "\n",
    "The App Store data set contains approximately 7,000 iOS apps; the data was collected in July 2017. You can download the data set [here](https://dq-content.s3.amazonaws.com/350/AppleStore.csv)."
   ]
  },
  {
   "cell_type": "markdown",
   "metadata": {},
   "source": [
    "## Import  and Explore Data"
   ]
  },
  {
   "cell_type": "code",
   "execution_count": 1,
   "metadata": {},
   "outputs": [],
   "source": [
    "#import function\n",
    "from csv import reader\n",
    "import pandas as pd\n",
    "#define function\n",
    "def explore_data(dataset, start, end, rows_and_columns=False):\n",
    "    dataset_slice = dataset[start:end]    \n",
    "    for row in dataset_slice:\n",
    "        print(row)\n",
    "        print('\\n') # adds a new (empty) line after each row\n",
    "\n",
    "    if rows_and_columns:\n",
    "        print('Number of rows:', len(dataset))\n",
    "        print('Number of columns:', len(dataset[0]))"
   ]
  },
  {
   "cell_type": "code",
   "execution_count": 2,
   "metadata": {
    "scrolled": true
   },
   "outputs": [
    {
     "name": "stdout",
     "output_type": "stream",
     "text": [
      "['Photo Editor & Candy Camera & Grid & ScrapBook', 'ART_AND_DESIGN', '4.1', '159', '19M', '10,000+', 'Free', '0', 'Everyone', 'Art & Design', 'January 7, 2018', '1.0.0', '4.0.3 and up']\n",
      "\n",
      "\n",
      "['Coloring book moana', 'ART_AND_DESIGN', '3.9', '967', '14M', '500,000+', 'Free', '0', 'Everyone', 'Art & Design;Pretend Play', 'January 15, 2018', '2.0.0', '4.0.3 and up']\n",
      "\n",
      "\n",
      "['U Launcher Lite – FREE Live Cool Themes, Hide Apps', 'ART_AND_DESIGN', '4.7', '87510', '8.7M', '5,000,000+', 'Free', '0', 'Everyone', 'Art & Design', 'August 1, 2018', '1.2.4', '4.0.3 and up']\n",
      "\n",
      "\n",
      "['Sketch - Draw & Paint', 'ART_AND_DESIGN', '4.5', '215644', '25M', '50,000,000+', 'Free', '0', 'Teen', 'Art & Design', 'June 8, 2018', 'Varies with device', '4.2 and up']\n",
      "\n",
      "\n",
      "Number of rows: 10841\n",
      "Number of columns: 13\n"
     ]
    }
   ],
   "source": [
    "#Open and Explore the Google Play data set\n",
    "opened_file = open('googleplaystore.csv', encoding=\"utf8\")\n",
    "read_file = reader(opened_file)\n",
    "google = list(read_file)\n",
    "google_header = google[0]\n",
    "google = google[1:]\n",
    "\n",
    "explore_data(google, 0, 4, True)"
   ]
  },
  {
   "cell_type": "code",
   "execution_count": 3,
   "metadata": {},
   "outputs": [
    {
     "name": "stdout",
     "output_type": "stream",
     "text": [
      "['284882215', 'Facebook', '389879808', 'USD', '0.0', '2974676', '212', '3.5', '3.5', '95.0', '4+', 'Social Networking', '37', '1', '29', '1']\n",
      "\n",
      "\n",
      "['389801252', 'Instagram', '113954816', 'USD', '0.0', '2161558', '1289', '4.5', '4.0', '10.23', '12+', 'Photo & Video', '37', '0', '29', '1']\n",
      "\n",
      "\n",
      "['529479190', 'Clash of Clans', '116476928', 'USD', '0.0', '2130805', '579', '4.5', '4.5', '9.24.12', '9+', 'Games', '38', '5', '18', '1']\n",
      "\n",
      "\n",
      "['420009108', 'Temple Run', '65921024', 'USD', '0.0', '1724546', '3842', '4.5', '4.0', '1.6.2', '9+', 'Games', '40', '5', '1', '1']\n",
      "\n",
      "\n",
      "Number of rows: 7197\n",
      "Number of columns: 16\n"
     ]
    }
   ],
   "source": [
    "#Open and Explore the App Store data set\n",
    "opened_file = open('AppleStore.csv', encoding=\"utf8\")\n",
    "read_file = reader(opened_file)\n",
    "apple = list(read_file)\n",
    "apple_header = apple[0]\n",
    "apple = apple[1:]\n",
    "\n",
    "explore_data(apple, 0, 4, True)"
   ]
  },
  {
   "cell_type": "code",
   "execution_count": 4,
   "metadata": {
    "scrolled": true
   },
   "outputs": [
    {
     "name": "stdout",
     "output_type": "stream",
     "text": [
      "['App', 'Category', 'Rating', 'Reviews', 'Size', 'Installs', 'Type', 'Price', 'Content Rating', 'Genres', 'Last Updated', 'Current Ver', 'Android Ver']\n",
      "['id', 'track_name', 'size_bytes', 'currency', 'price', 'rating_count_tot', 'rating_count_ver', 'user_rating', 'user_rating_ver', 'ver', 'cont_rating', 'prime_genre', 'sup_devices.num', 'ipadSc_urls.num', 'lang.num', 'vpp_lic']\n"
     ]
    }
   ],
   "source": [
    "#inspect column names to identify which columns are most important\n",
    "print(google_header)\n",
    "print(apple_header)"
   ]
  },
  {
   "cell_type": "markdown",
   "metadata": {},
   "source": [
    "## Data Preparation"
   ]
  },
  {
   "cell_type": "code",
   "execution_count": 5,
   "metadata": {},
   "outputs": [
    {
     "name": "stdout",
     "output_type": "stream",
     "text": [
      "['Life Made WI-Fi Touchscreen Photo Frame', '1.9', '19', '3.0M', '1,000+', 'Free', '0', 'Everyone', '', 'February 11, 2018', '1.0.19', '4.0 and up']\n",
      "10472\n"
     ]
    }
   ],
   "source": [
    "#detect row that is not the same length as the header row\n",
    "#if all rows are the same, there will be no output\n",
    "for row in google:\n",
    "    header_length = len(google_header)\n",
    "    row_length = len(row)\n",
    "    if row_length != header_length:\n",
    "        print(row)\n",
    "        print(google.index(row))\n",
    "  \n",
    "#delete row\n",
    "del google[10472]"
   ]
  },
  {
   "cell_type": "code",
   "execution_count": 6,
   "metadata": {},
   "outputs": [],
   "source": [
    "#detect row that is not the same length as the header row\n",
    "#if all rows are the same, there will be no output\n",
    "for row in apple:\n",
    "    header_length = len(apple_header)\n",
    "    row_length = len(row)\n",
    "    if row_length != header_length:\n",
    "        print(row)\n",
    "        print(apple.index(row))"
   ]
  },
  {
   "cell_type": "code",
   "execution_count": 7,
   "metadata": {},
   "outputs": [
    {
     "name": "stdout",
     "output_type": "stream",
     "text": [
      "Number of duplicate apps: 1181\n"
     ]
    }
   ],
   "source": [
    "#detect duplicates\n",
    "google_duplicate_apps = []\n",
    "google_duplicate_indices = []\n",
    "google_unique_apps = []\n",
    "\n",
    "for row in google:\n",
    "    name = row[0]\n",
    "    if name in google_unique_apps:\n",
    "        google_duplicate_apps.append(name)            \n",
    "    else:\n",
    "        google_unique_apps.append(name)\n",
    "    \n",
    "print('Number of duplicate apps:', len(google_duplicate_apps))"
   ]
  },
  {
   "cell_type": "code",
   "execution_count": 8,
   "metadata": {},
   "outputs": [
    {
     "name": "stdout",
     "output_type": "stream",
     "text": [
      "Number of duplicate apps: 9659\n"
     ]
    }
   ],
   "source": [
    "#create for loop to eliminate duplicate apps from Google Play Store data set\n",
    "reviews_max = {}\n",
    "\n",
    "for row in google:\n",
    "    name = row[0]\n",
    "    n_reviews = float(row[3])\n",
    "    \n",
    "    if name in reviews_max and reviews_max[name] < n_reviews:\n",
    "        reviews_max[name] = n_reviews\n",
    "        \n",
    "    elif name not in reviews_max:\n",
    "        reviews_max[name] = n_reviews\n",
    "    \n",
    "print('Number of duplicate apps:', len(reviews_max))"
   ]
  },
  {
   "cell_type": "markdown",
   "metadata": {},
   "source": [
    "First, two empty lists are created: `google_clean` and `already_added`. The for loop below will go through the Google data set and put the apps' name in the `already_added` list and the apps' updated number of reviews in the `google_clean` list. "
   ]
  },
  {
   "cell_type": "code",
   "execution_count": 9,
   "metadata": {},
   "outputs": [
    {
     "name": "stdout",
     "output_type": "stream",
     "text": [
      "Number of duplicate apps: 9659\n"
     ]
    }
   ],
   "source": [
    "\n",
    "google_clean = []\n",
    "already_added = []\n",
    "\n",
    "for row in google:\n",
    "    app_name = row[0]\n",
    "    n_reviews = float(row[3])\n",
    "    \n",
    "    if reviews_max[app_name] == n_reviews and app_name not in already_added:\n",
    "        google_clean.append(row)\n",
    "        already_added.append(app_name)\n",
    "        \n",
    "print('Number of duplicate apps:', len(google_clean))"
   ]
  },
  {
   "cell_type": "code",
   "execution_count": 10,
   "metadata": {},
   "outputs": [
    {
     "name": "stdout",
     "output_type": "stream",
     "text": [
      "Number of duplicate apps: 0\n"
     ]
    }
   ],
   "source": [
    "#detect duplicates\n",
    "duplicate_apps = []\n",
    "unique_apps = []\n",
    "\n",
    "for app in apple:\n",
    "    name = app[0]\n",
    "    if name in unique_apps:\n",
    "        duplicate_apps.append(name)\n",
    "    else:\n",
    "        unique_apps.append(name)\n",
    "    \n",
    "print('Number of duplicate apps:', len(duplicate_apps))"
   ]
  },
  {
   "cell_type": "markdown",
   "metadata": {
    "collapsed": true
   },
   "source": [
    "Our company wants to focus on English only apps. Let's detect and eliminate non-English apps in either data set. \n",
    "\n",
    "English characters correspond to numbers less than 127. The scan function will tell the user if the string is English by returning True or Non-English by returning False. \n",
    "\n",
    "Some examples are included to test the function."
   ]
  },
  {
   "cell_type": "code",
   "execution_count": 11,
   "metadata": {},
   "outputs": [
    {
     "name": "stdout",
     "output_type": "stream",
     "text": [
      "True\n",
      "True\n",
      "False\n",
      "False\n"
     ]
    }
   ],
   "source": [
    "def is_english(string):\n",
    "    for character in string:\n",
    "        if ord(character) > 127:\n",
    "            return False\n",
    "        elif ord(character) < 127:\n",
    "            return True\n",
    "    \n",
    "print(is_english('Docs To Go™ Free Office Suite'))\n",
    "print(is_english('Instachat 😜'))\n",
    "print(is_english('😜'))\n",
    "print(is_english('爱奇艺PPS -《欢乐颂2》电视剧热播'))"
   ]
  },
  {
   "cell_type": "markdown",
   "metadata": {},
   "source": [
    "The function is not evaluating emojis correctly so improvements to the function are written below. The previous examples are used to test the function."
   ]
  },
  {
   "cell_type": "code",
   "execution_count": 12,
   "metadata": {},
   "outputs": [
    {
     "name": "stdout",
     "output_type": "stream",
     "text": [
      "True\n",
      "True\n",
      "True\n",
      "True\n"
     ]
    }
   ],
   "source": [
    "def is_english(string):\n",
    "    for character in string:\n",
    "        non_ascii = 0\n",
    "        if ord(character) > 127:\n",
    "            non_ascii += 1\n",
    "            \n",
    "        if non_ascii > 3:\n",
    "            return False\n",
    "        else:\n",
    "            return True\n",
    "    \n",
    "print(is_english('Docs To Go™ Free Office Suite'))\n",
    "print(is_english('Instachat 😜'))\n",
    "print(is_english('😜'))\n",
    "print(is_english('爱奇艺PPS -《欢乐颂2》电视剧热播'))"
   ]
  },
  {
   "cell_type": "markdown",
   "metadata": {},
   "source": [
    "The is_english function will check that all apps in either data set contain only english apps. Explore each data set."
   ]
  },
  {
   "cell_type": "code",
   "execution_count": 13,
   "metadata": {
    "scrolled": true
   },
   "outputs": [
    {
     "name": "stdout",
     "output_type": "stream",
     "text": [
      "['Photo Editor & Candy Camera & Grid & ScrapBook', 'ART_AND_DESIGN', '4.1', '159', '19M', '10,000+', 'Free', '0', 'Everyone', 'Art & Design', 'January 7, 2018', '1.0.0', '4.0.3 and up']\n",
      "\n",
      "\n",
      "['U Launcher Lite – FREE Live Cool Themes, Hide Apps', 'ART_AND_DESIGN', '4.7', '87510', '8.7M', '5,000,000+', 'Free', '0', 'Everyone', 'Art & Design', 'August 1, 2018', '1.2.4', '4.0.3 and up']\n",
      "\n",
      "\n",
      "['Sketch - Draw & Paint', 'ART_AND_DESIGN', '4.5', '215644', '25M', '50,000,000+', 'Free', '0', 'Teen', 'Art & Design', 'June 8, 2018', 'Varies with device', '4.2 and up']\n",
      "\n",
      "\n",
      "['Pixel Draw - Number Art Coloring Book', 'ART_AND_DESIGN', '4.3', '967', '2.8M', '100,000+', 'Free', '0', 'Everyone', 'Art & Design;Creativity', 'June 20, 2018', '1.1', '4.4 and up']\n",
      "\n",
      "\n",
      "Number of rows: 9659\n",
      "Number of columns: 13\n"
     ]
    }
   ],
   "source": [
    "google_english_apps = []\n",
    "\n",
    "for row in google_clean:\n",
    "    app_name = row[0]\n",
    "    if is_english(app_name) == True:\n",
    "        google_english_apps.append(row)\n",
    "         \n",
    "explore_data(google_english_apps, 0, 4, True)"
   ]
  },
  {
   "cell_type": "code",
   "execution_count": 14,
   "metadata": {
    "scrolled": true
   },
   "outputs": [
    {
     "name": "stdout",
     "output_type": "stream",
     "text": [
      "['284882215', 'Facebook', '389879808', 'USD', '0.0', '2974676', '212', '3.5', '3.5', '95.0', '4+', 'Social Networking', '37', '1', '29', '1']\n",
      "\n",
      "\n",
      "['389801252', 'Instagram', '113954816', 'USD', '0.0', '2161558', '1289', '4.5', '4.0', '10.23', '12+', 'Photo & Video', '37', '0', '29', '1']\n",
      "\n",
      "\n",
      "['529479190', 'Clash of Clans', '116476928', 'USD', '0.0', '2130805', '579', '4.5', '4.5', '9.24.12', '9+', 'Games', '38', '5', '18', '1']\n",
      "\n",
      "\n",
      "['420009108', 'Temple Run', '65921024', 'USD', '0.0', '1724546', '3842', '4.5', '4.0', '1.6.2', '9+', 'Games', '40', '5', '1', '1']\n",
      "\n",
      "\n",
      "Number of rows: 7197\n",
      "Number of columns: 16\n"
     ]
    }
   ],
   "source": [
    "apple_english_apps = []\n",
    "\n",
    "for row in apple:\n",
    "    app_name = row[1]\n",
    "    if is_english(app_name)== True:\n",
    "        apple_english_apps.append(row)\n",
    "        \n",
    "explore_data(apple_english_apps, 0, 4, True)"
   ]
  },
  {
   "cell_type": "markdown",
   "metadata": {},
   "source": [
    "Since the company is only interested in the free apps. Isolate the free apps from the Google Play Store data set and the Apple Store data sets."
   ]
  },
  {
   "cell_type": "code",
   "execution_count": 15,
   "metadata": {},
   "outputs": [
    {
     "name": "stdout",
     "output_type": "stream",
     "text": [
      "8905\n"
     ]
    }
   ],
   "source": [
    "#isolate the free apps from the Google Play Store data set\n",
    "free_google_english_apps = []\n",
    "\n",
    "for row in google_english_apps:\n",
    "    price = row[7]\n",
    "    if price == '0':\n",
    "        free_google_english_apps.append(row)\n",
    "\n",
    "#print the length of the Google Play Store data set      \n",
    "print(len(free_google_english_apps))"
   ]
  },
  {
   "cell_type": "code",
   "execution_count": 16,
   "metadata": {},
   "outputs": [
    {
     "name": "stdout",
     "output_type": "stream",
     "text": [
      "4056\n"
     ]
    }
   ],
   "source": [
    "#isolate the free apps from the App Store data set\n",
    "free_apple_english_apps = []\n",
    "\n",
    "for row in apple_english_apps:\n",
    "    price = row[4]\n",
    "    \n",
    "    if price == '0.0':\n",
    "        free_apple_english_apps.append(row)\n",
    "\n",
    "#print the length of the App Store data set      \n",
    "print(len(free_apple_english_apps))"
   ]
  },
  {
   "cell_type": "markdown",
   "metadata": {},
   "source": [
    "## Aim and validation strategy of the analysis"
   ]
  },
  {
   "cell_type": "markdown",
   "metadata": {},
   "source": [
    "The aim of the analysis is to determine the kinds of apps that are likely to attract more users so that the company's revenue will increase."
   ]
  },
  {
   "cell_type": "markdown",
   "metadata": {},
   "source": [
    "To minimize risks and overhead, the validation strategy for an app idea is comprised of three steps:\n",
    "\n",
    "* Build a minimal Android version of the app, and add it to Google Play.\n",
    "* If the app has a good response from users, develop it further\n",
    "* If the app is profitable after six months, we build an iOS version of the app and add it to the App Store."
   ]
  },
  {
   "cell_type": "markdown",
   "metadata": {},
   "source": [
    "## Build frequency tables for the most common genres for apps in Google Play and App Store"
   ]
  },
  {
   "cell_type": "markdown",
   "metadata": {},
   "source": [
    "The most common genres are `prime_genre`, `Genres`, and `Category`. Two function will be used to analyze the frequency tables. One function to generate the frequency tables that show percentages. Another function to display the percentages in descending order."
   ]
  },
  {
   "cell_type": "code",
   "execution_count": 17,
   "metadata": {},
   "outputs": [],
   "source": [
    "#define a function to create a frequency table\n",
    "def freq_table(dataset, index):\n",
    "    table = {}\n",
    "    total = 0\n",
    "    #build frequency table\n",
    "    for row in dataset:\n",
    "        total += 1\n",
    "        app = row[index]\n",
    "        if app in table:\n",
    "            table[app] += 1\n",
    "        else:\n",
    "            table[app] = 1\n",
    "    #convert the frequecy from integers to decimals\n",
    "    table_percentages = {}\n",
    "    for variable in table:\n",
    "        percentage = (table[variable] / total) * 100\n",
    "        #assign apps to their percetages\n",
    "        table_percentages[variable] = percentage\n",
    "    return table_percentages\n",
    "\n",
    "#define a function to display a frequency table\n",
    "def display_table(dataset, index):\n",
    "    table = freq_table(dataset, index)\n",
    "    table_display = []\n",
    "    for key in table:\n",
    "        key_val_as_tuple = (table[key], key)\n",
    "        table_display.append(key_val_as_tuple)\n",
    "\n",
    "    table_sorted = sorted(table_display, reverse = True)\n",
    "    for entry in table_sorted:\n",
    "        print(entry[1], ':', entry[0])"
   ]
  },
  {
   "cell_type": "markdown",
   "metadata": {},
   "source": [
    "Let's build the frequency tables for both data sets!"
   ]
  },
  {
   "cell_type": "code",
   "execution_count": 18,
   "metadata": {},
   "outputs": [],
   "source": [
    "#create a genres frequency table using Google Play Store data set\n",
    "google_genres = freq_table(free_google_english_apps, -4)\n",
    "\n",
    "#create a category frequency table using Google Play Store data set\n",
    "google_category = freq_table(free_google_english_apps, 1)"
   ]
  },
  {
   "cell_type": "code",
   "execution_count": 19,
   "metadata": {},
   "outputs": [],
   "source": [
    "#create a prime_genre frequency table using App Store data set\n",
    "apple_freq_table = freq_table(free_apple_english_apps, -5)"
   ]
  },
  {
   "cell_type": "markdown",
   "metadata": {},
   "source": [
    "Now, focus on analyzing the three frequency tables."
   ]
  },
  {
   "cell_type": "code",
   "execution_count": 20,
   "metadata": {},
   "outputs": [
    {
     "name": "stdout",
     "output_type": "stream",
     "text": [
      "Tools : 8.422234699606962\n",
      "Entertainment : 6.086468276249298\n",
      "Education : 5.390230207748456\n",
      "Business : 4.581695676586187\n",
      "Lifestyle : 3.9191465468837734\n",
      "Productivity : 3.885457608085345\n",
      "Finance : 3.6833239752947784\n",
      "Medical : 3.5148792813026386\n",
      "Sports : 3.4475014037057834\n",
      "Personalization : 3.312745648512072\n",
      "Communication : 3.2341381246490735\n",
      "Action : 3.0881527231892196\n",
      "Health & Fitness : 3.065693430656934\n",
      "Photography : 2.9421673217293653\n",
      "News & Magazines : 2.829870859067939\n",
      "Social : 2.6501965188096577\n",
      "Travel & Local : 2.313307130825379\n",
      "Shopping : 2.2459292532285233\n",
      "Books & Reference : 2.1785513756316677\n",
      "Simulation : 2.0662549129702414\n",
      "Dating : 1.8528916339135317\n",
      "Arcade : 1.8416619876473892\n",
      "Video Players & Editors : 1.7742841100505335\n",
      "Casual : 1.7518248175182483\n",
      "Maps & Navigation : 1.4149354295339696\n",
      "Food & Drink : 1.235261089275688\n",
      "Puzzle : 1.1229646266142617\n",
      "Racing : 0.9882088714205502\n",
      "Role Playing : 0.9320606400898372\n",
      "Libraries & Demo : 0.9320606400898372\n",
      "Strategy : 0.9208309938236946\n",
      "Auto & Vehicles : 0.9208309938236946\n",
      "House & Home : 0.8197641774284109\n",
      "Weather : 0.7973048848961257\n",
      "Events : 0.7074677147669848\n",
      "Adventure : 0.6850084222346996\n",
      "Comics : 0.617630544637844\n",
      "Art & Design : 0.6064008983717013\n",
      "Beauty : 0.5951712521055587\n",
      "Parenting : 0.4941044357102751\n",
      "Card : 0.4491858506457047\n",
      "Trivia : 0.4267265581134195\n",
      "Casino : 0.4267265581134195\n",
      "Educational;Education : 0.39303761931499154\n",
      "Board : 0.38180797304884895\n",
      "Educational : 0.3705783267827063\n",
      "Education;Education : 0.3481190342504211\n",
      "Word : 0.2582818641212802\n",
      "Casual;Pretend Play : 0.23582257158899494\n",
      "Music : 0.2021336327905671\n",
      "Racing;Action & Adventure : 0.16844469399213924\n",
      "Puzzle;Brain Games : 0.16844469399213924\n",
      "Entertainment;Music & Video : 0.16844469399213924\n",
      "Casual;Brain Games : 0.13475575519371139\n",
      "Casual;Action & Adventure : 0.13475575519371139\n",
      "Arcade;Action & Adventure : 0.12352610892756878\n",
      "Action;Action & Adventure : 0.10106681639528355\n",
      "Educational;Pretend Play : 0.08983717012914093\n",
      "Simulation;Action & Adventure : 0.07860752386299832\n",
      "Parenting;Education : 0.07860752386299832\n",
      "Entertainment;Brain Games : 0.07860752386299832\n",
      "Board;Brain Games : 0.07860752386299832\n",
      "Parenting;Music & Video : 0.06737787759685569\n",
      "Educational;Brain Games : 0.06737787759685569\n",
      "Casual;Creativity : 0.06737787759685569\n",
      "Art & Design;Creativity : 0.06737787759685569\n",
      "Education;Pretend Play : 0.05614823133071309\n",
      "Role Playing;Pretend Play : 0.044918585064570464\n",
      "Education;Creativity : 0.044918585064570464\n",
      "Role Playing;Action & Adventure : 0.033688938798427846\n",
      "Puzzle;Action & Adventure : 0.033688938798427846\n",
      "Entertainment;Creativity : 0.033688938798427846\n",
      "Entertainment;Action & Adventure : 0.033688938798427846\n",
      "Educational;Creativity : 0.033688938798427846\n",
      "Educational;Action & Adventure : 0.033688938798427846\n",
      "Education;Music & Video : 0.033688938798427846\n",
      "Education;Brain Games : 0.033688938798427846\n",
      "Education;Action & Adventure : 0.033688938798427846\n",
      "Adventure;Action & Adventure : 0.033688938798427846\n",
      "Video Players & Editors;Music & Video : 0.022459292532285232\n",
      "Sports;Action & Adventure : 0.022459292532285232\n",
      "Simulation;Pretend Play : 0.022459292532285232\n",
      "Puzzle;Creativity : 0.022459292532285232\n",
      "Music;Music & Video : 0.022459292532285232\n",
      "Entertainment;Pretend Play : 0.022459292532285232\n",
      "Casual;Education : 0.022459292532285232\n",
      "Board;Action & Adventure : 0.022459292532285232\n",
      "Video Players & Editors;Creativity : 0.011229646266142616\n",
      "Trivia;Education : 0.011229646266142616\n",
      "Travel & Local;Action & Adventure : 0.011229646266142616\n",
      "Tools;Education : 0.011229646266142616\n",
      "Strategy;Education : 0.011229646266142616\n",
      "Strategy;Creativity : 0.011229646266142616\n",
      "Strategy;Action & Adventure : 0.011229646266142616\n",
      "Simulation;Education : 0.011229646266142616\n",
      "Role Playing;Brain Games : 0.011229646266142616\n",
      "Racing;Pretend Play : 0.011229646266142616\n",
      "Puzzle;Education : 0.011229646266142616\n",
      "Parenting;Brain Games : 0.011229646266142616\n",
      "Music & Audio;Music & Video : 0.011229646266142616\n",
      "Lifestyle;Pretend Play : 0.011229646266142616\n",
      "Lifestyle;Education : 0.011229646266142616\n",
      "Health & Fitness;Education : 0.011229646266142616\n",
      "Health & Fitness;Action & Adventure : 0.011229646266142616\n",
      "Entertainment;Education : 0.011229646266142616\n",
      "Communication;Creativity : 0.011229646266142616\n",
      "Comics;Creativity : 0.011229646266142616\n",
      "Casual;Music & Video : 0.011229646266142616\n",
      "Card;Action & Adventure : 0.011229646266142616\n",
      "Books & Reference;Education : 0.011229646266142616\n",
      "Art & Design;Pretend Play : 0.011229646266142616\n",
      "Art & Design;Action & Adventure : 0.011229646266142616\n",
      "Arcade;Pretend Play : 0.011229646266142616\n",
      "Adventure;Education : 0.011229646266142616\n"
     ]
    }
   ],
   "source": [
    "#display the genres column in the Google Play Store data set\n",
    "display_table(free_google_english_apps, -4)"
   ]
  },
  {
   "cell_type": "code",
   "execution_count": 21,
   "metadata": {},
   "outputs": [
    {
     "name": "stdout",
     "output_type": "stream",
     "text": [
      "FAMILY : 18.97810218978102\n",
      "GAME : 9.70241437394722\n",
      "TOOLS : 8.433464345873105\n",
      "BUSINESS : 4.581695676586187\n",
      "LIFESTYLE : 3.9303761931499155\n",
      "PRODUCTIVITY : 3.885457608085345\n",
      "FINANCE : 3.6833239752947784\n",
      "MEDICAL : 3.5148792813026386\n",
      "SPORTS : 3.3801235261089273\n",
      "PERSONALIZATION : 3.312745648512072\n",
      "COMMUNICATION : 3.2341381246490735\n",
      "HEALTH_AND_FITNESS : 3.065693430656934\n",
      "PHOTOGRAPHY : 2.9421673217293653\n",
      "NEWS_AND_MAGAZINES : 2.829870859067939\n",
      "SOCIAL : 2.6501965188096577\n",
      "TRAVEL_AND_LOCAL : 2.3245367770915215\n",
      "SHOPPING : 2.2459292532285233\n",
      "BOOKS_AND_REFERENCE : 2.1785513756316677\n",
      "DATING : 1.8528916339135317\n",
      "VIDEO_PLAYERS : 1.7967434025828188\n",
      "MAPS_AND_NAVIGATION : 1.4149354295339696\n",
      "FOOD_AND_DRINK : 1.235261089275688\n",
      "EDUCATION : 1.167883211678832\n",
      "ENTERTAINMENT : 0.9545199326221224\n",
      "LIBRARIES_AND_DEMO : 0.9320606400898372\n",
      "AUTO_AND_VEHICLES : 0.9208309938236946\n",
      "HOUSE_AND_HOME : 0.8197641774284109\n",
      "WEATHER : 0.7973048848961257\n",
      "EVENTS : 0.7074677147669848\n",
      "PARENTING : 0.6513194834362718\n",
      "ART_AND_DESIGN : 0.6513194834362718\n",
      "COMICS : 0.6288601909039866\n",
      "BEAUTY : 0.5951712521055587\n"
     ]
    }
   ],
   "source": [
    "#display the category column in the Google Play Store data set\n",
    "display_table(free_google_english_apps, 1)"
   ]
  },
  {
   "cell_type": "code",
   "execution_count": 22,
   "metadata": {},
   "outputs": [
    {
     "name": "stdout",
     "output_type": "stream",
     "text": [
      "Games : 55.64595660749507\n",
      "Entertainment : 8.234714003944774\n",
      "Photo & Video : 4.117357001972387\n",
      "Social Networking : 3.5256410256410255\n",
      "Education : 3.2544378698224854\n",
      "Shopping : 2.983234714003945\n",
      "Utilities : 2.687376725838264\n",
      "Lifestyle : 2.3175542406311638\n",
      "Finance : 2.0710059171597637\n",
      "Sports : 1.947731755424063\n",
      "Health & Fitness : 1.8737672583826428\n",
      "Music : 1.6518737672583828\n",
      "Book : 1.6272189349112427\n",
      "Productivity : 1.5285996055226825\n",
      "News : 1.4299802761341223\n",
      "Travel : 1.3806706114398422\n",
      "Food & Drink : 1.0601577909270217\n",
      "Weather : 0.7642998027613412\n",
      "Reference : 0.4930966469428008\n",
      "Navigation : 0.4930966469428008\n",
      "Business : 0.4930966469428008\n",
      "Catalogs : 0.22189349112426035\n",
      "Medical : 0.19723865877712032\n"
     ]
    }
   ],
   "source": [
    "#display the prime_genre column in the Google Play Store data set\n",
    "display_table(free_apple_english_apps, -5)"
   ]
  },
  {
   "cell_type": "markdown",
   "metadata": {
    "collapsed": true
   },
   "source": [
    "# Calculating the Most Popular Apps by Genre from App Store"
   ]
  },
  {
   "cell_type": "code",
   "execution_count": 23,
   "metadata": {},
   "outputs": [
    {
     "name": "stdout",
     "output_type": "stream",
     "text": [
      "Social Networking : 53078.195804195806\n",
      "Photo & Video : 27249.892215568863\n",
      "Games : 18924.68896765618\n",
      "Music : 56482.02985074627\n",
      "Reference : 67447.9\n",
      "Health & Fitness : 19952.315789473683\n",
      "Weather : 47220.93548387097\n",
      "Utilities : 14010.100917431193\n",
      "Travel : 20216.01785714286\n",
      "Shopping : 18746.677685950413\n",
      "News : 15892.724137931034\n",
      "Navigation : 25972.05\n",
      "Lifestyle : 8978.308510638299\n",
      "Entertainment : 10822.961077844311\n",
      "Food & Drink : 20179.093023255813\n",
      "Sports : 20128.974683544304\n",
      "Book : 8498.333333333334\n",
      "Finance : 13522.261904761905\n",
      "Education : 6266.333333333333\n",
      "Productivity : 19053.887096774193\n",
      "Business : 6367.8\n",
      "Catalogs : 1779.5555555555557\n",
      "Medical : 459.75\n"
     ]
    }
   ],
   "source": [
    "#create a prime_genre frequency table using App Store data set\n",
    "genre_apple = freq_table(free_apple_english_apps, -5)\n",
    "\n",
    "#loop over unique genres in App Store with interation variable 'genre'\n",
    "for genre in genre_apple:\n",
    "    #initiate 'total' varaiable with value 0\n",
    "    total = 0\n",
    "    #initiate 'len_genre' variable with value 0\n",
    "    len_genre = 0\n",
    "    \n",
    "    #loop over preprocessed App Store data set with interation variable 'app'\n",
    "    for app in free_apple_english_apps:\n",
    "        #save app genre to 'genre_app' variable\n",
    "        genre_app = app[-5]\n",
    "        #condtional statement\n",
    "        #if the genre column in the frequecy table matches the preprocessed App Store data set\n",
    "        if genre_app == genre:\n",
    "            #save the number of user ratings as a float\n",
    "            user_rating = float(app[5])\n",
    "            total += user_rating\n",
    "            len_genre += 1\n",
    "    #calculate the average for each genre        \n",
    "    avg = total / len_genre\n",
    "    print(genre, ':', avg)\n",
    "    "
   ]
  },
  {
   "cell_type": "markdown",
   "metadata": {},
   "source": [
    "# Calculating the Most Popular Apps by Genre from the Google Play Store"
   ]
  },
  {
   "cell_type": "code",
   "execution_count": 24,
   "metadata": {
    "scrolled": true
   },
   "outputs": [
    {
     "name": "stdout",
     "output_type": "stream",
     "text": [
      "ART_AND_DESIGN : 1952105.1724137932\n",
      "AUTO_AND_VEHICLES : 647317.8170731707\n",
      "BEAUTY : 513151.88679245283\n",
      "BOOKS_AND_REFERENCE : 8587351.855670104\n",
      "BUSINESS : 1708215.906862745\n",
      "COMICS : 803234.8214285715\n",
      "COMMUNICATION : 38322625.697916664\n",
      "DATING : 854028.8303030303\n",
      "EDUCATION : 1825480.7692307692\n",
      "ENTERTAINMENT : 11640705.88235294\n",
      "EVENTS : 253542.22222222222\n",
      "FINANCE : 1387692.475609756\n",
      "FOOD_AND_DRINK : 1924897.7363636363\n",
      "HEALTH_AND_FITNESS : 4188821.9853479853\n",
      "HOUSE_AND_HOME : 1331540.5616438356\n",
      "LIBRARIES_AND_DEMO : 638503.734939759\n",
      "LIFESTYLE : 1436126.94\n",
      "GAME : 15551995.891203703\n",
      "FAMILY : 3668870.823076923\n",
      "MEDICAL : 120550.61980830671\n",
      "SOCIAL : 23253652.127118643\n",
      "SHOPPING : 7001693.425\n",
      "PHOTOGRAPHY : 17772018.759541985\n",
      "SPORTS : 3638640.1428571427\n",
      "TRAVEL_AND_LOCAL : 13984077.710144928\n",
      "TOOLS : 10787009.952063914\n",
      "PERSONALIZATION : 5183850.806779661\n",
      "PRODUCTIVITY : 16738957.554913295\n",
      "PARENTING : 542603.6206896552\n",
      "WEATHER : 5074486.197183099\n",
      "VIDEO_PLAYERS : 24573948.25\n",
      "NEWS_AND_MAGAZINES : 9401635.952380951\n",
      "MAPS_AND_NAVIGATION : 3993339.603174603\n"
     ]
    }
   ],
   "source": [
    "#create a category frequency table using Google Play Store data set\n",
    "category_google = freq_table(free_google_english_apps, 1)\n",
    "\n",
    "#loop over unique categories in Google Play Store with interation variable 'category'\n",
    "for category in category_google:\n",
    "    #initiate 'total' varaiable with value 0\n",
    "    total = 0\n",
    "    #initiate 'len_category' variable with value 0\n",
    "    len_category = 0\n",
    "    \n",
    "    #loop over preprocessed Google Play Store data set with interation variable 'app'\n",
    "    for app in free_google_english_apps:\n",
    "        #save app category to 'category_app' variable\n",
    "        category_app = app[1]\n",
    "        #condtional statement\n",
    "        #if the category column in the frequecy table matches the preprocessed Google Play Store data set\n",
    "        if category_app == category:\n",
    "            #save the number of installs\n",
    "            n_install = app[5]\n",
    "            #remove commas\n",
    "            n_install = n_install.replace(',', '')\n",
    "            #remove plus signs \n",
    "            n_install = n_install.replace('+', '')\n",
    "            total += float(n_install)\n",
    "            len_category += 1\n",
    "    #calculate the average for each category        \n",
    "    avg = total / len_category\n",
    "    print(category, ':', avg)"
   ]
  }
 ],
 "metadata": {
  "kernelspec": {
   "display_name": "Python 3",
   "language": "python",
   "name": "python3"
  },
  "language_info": {
   "codemirror_mode": {
    "name": "ipython",
    "version": 3
   },
   "file_extension": ".py",
   "mimetype": "text/x-python",
   "name": "python",
   "nbconvert_exporter": "python",
   "pygments_lexer": "ipython3",
   "version": "3.7.6"
  }
 },
 "nbformat": 4,
 "nbformat_minor": 2
}
