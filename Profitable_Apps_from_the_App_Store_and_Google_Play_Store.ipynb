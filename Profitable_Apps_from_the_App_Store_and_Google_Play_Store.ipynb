{
 "cells": [
  {
   "cell_type": "markdown",
   "metadata": {
    "collapsed": true
   },
   "source": [
    "# Analyzing ad selection\n",
    "\n",
    "Ads that run in free Android and iOS mobile apps available on Google Play and the App Store are our main source of revenue. To assist our developers to enhance customer experience and increase revenue to our company, an analysis of what content our customers prefer was conducted."
   ]
  },
  {
   "cell_type": "markdown",
   "metadata": {},
   "source": [
    "## Downloading The Data\n",
    "The Google Play data set contains approximately 10,000 Android apps; the data was collected in August 2018. You can download the data set [here](https://dq-content.s3.amazonaws.com/350/googleplaystore.csv).\n",
    "\n",
    "The App Store data set contains approximately 7,000 iOS apps; the data was collected in July 2017. You can download the data set [here](https://dq-content.s3.amazonaws.com/350/AppleStore.csv)."
   ]
  },
  {
   "cell_type": "markdown",
   "metadata": {},
   "source": [
    "## Import  and Explore Data"
   ]
  },
  {
   "cell_type": "code",
   "execution_count": 2,
   "metadata": {
    "collapsed": true
   },
   "outputs": [],
   "source": [
    "#import function\n",
    "from csv import reader\n",
    "import pandas as pd\n",
    "#define function\n",
    "def explore_data(dataset, start, end, rows_and_columns=False):\n",
    "    dataset_slice = dataset[start:end]    \n",
    "    for row in dataset_slice:\n",
    "        print(row)\n",
    "        print('\\n') # adds a new (empty) line after each row\n",
    "\n",
    "    if rows_and_columns:\n",
    "        print('Number of rows:', len(dataset))\n",
    "        print('Number of columns:', len(dataset[0]))"
   ]
  },
  {
   "cell_type": "code",
   "execution_count": 5,
   "metadata": {
    "collapsed": false,
    "scrolled": true
   },
   "outputs": [
    {
     "ename": "FileNotFoundError",
     "evalue": "[Errno 2] No such file or directory: 'googleplaystore.csv'",
     "output_type": "error",
     "traceback": [
      "\u001b[1;31m\u001b[0m",
      "\u001b[1;31mFileNotFoundError\u001b[0mTraceback (most recent call last)",
      "\u001b[1;32m<ipython-input-5-28ed572386b5>\u001b[0m in \u001b[0;36m<module>\u001b[1;34m()\u001b[0m\n\u001b[0;32m      1\u001b[0m \u001b[1;31m#Open and Explore the Google Play data set\u001b[0m\u001b[1;33m\u001b[0m\u001b[1;33m\u001b[0m\u001b[0m\n\u001b[1;32m----> 2\u001b[1;33m \u001b[0mopened_file\u001b[0m \u001b[1;33m=\u001b[0m \u001b[0mopen\u001b[0m\u001b[1;33m(\u001b[0m\u001b[1;34m'googleplaystore.csv'\u001b[0m\u001b[1;33m,\u001b[0m \u001b[0mencoding\u001b[0m\u001b[1;33m=\u001b[0m\u001b[1;34m\"utf8\"\u001b[0m\u001b[1;33m)\u001b[0m\u001b[1;33m\u001b[0m\u001b[0m\n\u001b[0m\u001b[0;32m      3\u001b[0m \u001b[0mread_file\u001b[0m \u001b[1;33m=\u001b[0m \u001b[0mreader\u001b[0m\u001b[1;33m(\u001b[0m\u001b[0mopened_file\u001b[0m\u001b[1;33m)\u001b[0m\u001b[1;33m\u001b[0m\u001b[0m\n\u001b[0;32m      4\u001b[0m \u001b[0mgoogle\u001b[0m \u001b[1;33m=\u001b[0m \u001b[0mlist\u001b[0m\u001b[1;33m(\u001b[0m\u001b[0mread_file\u001b[0m\u001b[1;33m)\u001b[0m\u001b[1;33m\u001b[0m\u001b[0m\n\u001b[0;32m      5\u001b[0m \u001b[0mgoogle_header\u001b[0m \u001b[1;33m=\u001b[0m \u001b[0mgoogle\u001b[0m\u001b[1;33m[\u001b[0m\u001b[1;36m0\u001b[0m\u001b[1;33m]\u001b[0m\u001b[1;33m\u001b[0m\u001b[0m\n",
      "\u001b[1;31mFileNotFoundError\u001b[0m: [Errno 2] No such file or directory: 'googleplaystore.csv'"
     ]
    }
   ],
   "source": [
    "#Open and Explore the Google Play data set\n",
    "opened_file = open('googleplaystore.csv', encoding=\"utf8\")\n",
    "read_file = reader(opened_file)\n",
    "google = list(read_file)\n",
    "google_header = google[0]\n",
    "google = google[1:]\n",
    "\n",
    "explore_data(google, 0, 4, True)"
   ]
  },
  {
   "cell_type": "code",
   "execution_count": 4,
   "metadata": {
    "collapsed": false
   },
   "outputs": [
    {
     "ename": "FileNotFoundError",
     "evalue": "[Errno 2] No such file or directory: 'AppleStore.csv'",
     "output_type": "error",
     "traceback": [
      "\u001b[1;31m\u001b[0m",
      "\u001b[1;31mFileNotFoundError\u001b[0mTraceback (most recent call last)",
      "\u001b[1;32m<ipython-input-4-5a46f329d6be>\u001b[0m in \u001b[0;36m<module>\u001b[1;34m()\u001b[0m\n\u001b[0;32m      1\u001b[0m \u001b[1;31m#Open and Explore the App Store data set\u001b[0m\u001b[1;33m\u001b[0m\u001b[1;33m\u001b[0m\u001b[0m\n\u001b[1;32m----> 2\u001b[1;33m \u001b[0mopened_file\u001b[0m \u001b[1;33m=\u001b[0m \u001b[0mopen\u001b[0m\u001b[1;33m(\u001b[0m\u001b[1;34m'AppleStore.csv'\u001b[0m\u001b[1;33m,\u001b[0m \u001b[0mencoding\u001b[0m\u001b[1;33m=\u001b[0m\u001b[1;34m\"utf8\"\u001b[0m\u001b[1;33m)\u001b[0m\u001b[1;33m\u001b[0m\u001b[0m\n\u001b[0m\u001b[0;32m      3\u001b[0m \u001b[0mread_file\u001b[0m \u001b[1;33m=\u001b[0m \u001b[0mreader\u001b[0m\u001b[1;33m(\u001b[0m\u001b[0mopened_file\u001b[0m\u001b[1;33m)\u001b[0m\u001b[1;33m\u001b[0m\u001b[0m\n\u001b[0;32m      4\u001b[0m \u001b[0mapple\u001b[0m \u001b[1;33m=\u001b[0m \u001b[0mlist\u001b[0m\u001b[1;33m(\u001b[0m\u001b[0mread_file\u001b[0m\u001b[1;33m)\u001b[0m\u001b[1;33m\u001b[0m\u001b[0m\n\u001b[0;32m      5\u001b[0m \u001b[0mapple_header\u001b[0m \u001b[1;33m=\u001b[0m \u001b[0mapple\u001b[0m\u001b[1;33m[\u001b[0m\u001b[1;36m0\u001b[0m\u001b[1;33m]\u001b[0m\u001b[1;33m\u001b[0m\u001b[0m\n",
      "\u001b[1;31mFileNotFoundError\u001b[0m: [Errno 2] No such file or directory: 'AppleStore.csv'"
     ]
    }
   ],
   "source": [
    "#Open and Explore the App Store data set\n",
    "opened_file = open('AppleStore.csv', encoding=\"utf8\")\n",
    "read_file = reader(opened_file)\n",
    "apple = list(read_file)\n",
    "apple_header = apple[0]\n",
    "apple = apple[1:]\n",
    "\n",
    "explore_data(apple, 0, 4, True)"
   ]
  },
  {
   "cell_type": "code",
   "execution_count": 5,
   "metadata": {
    "collapsed": false,
    "scrolled": true
   },
   "outputs": [
    {
     "ename": "NameError",
     "evalue": "name 'google_header' is not defined",
     "output_type": "error",
     "traceback": [
      "\u001b[1;31m---------------------------------------------------------------------------\u001b[0m",
      "\u001b[1;31mNameError\u001b[0m                                 Traceback (most recent call last)",
      "\u001b[1;32m<ipython-input-5-6d21033f442d>\u001b[0m in \u001b[0;36m<module>\u001b[1;34m\u001b[0m\n\u001b[0;32m      1\u001b[0m \u001b[1;31m#inspect column names to identify which columns are most important\u001b[0m\u001b[1;33m\u001b[0m\u001b[1;33m\u001b[0m\u001b[1;33m\u001b[0m\u001b[0m\n\u001b[1;32m----> 2\u001b[1;33m \u001b[0mprint\u001b[0m\u001b[1;33m(\u001b[0m\u001b[0mgoogle_header\u001b[0m\u001b[1;33m)\u001b[0m\u001b[1;33m\u001b[0m\u001b[1;33m\u001b[0m\u001b[0m\n\u001b[0m\u001b[0;32m      3\u001b[0m \u001b[0mprint\u001b[0m\u001b[1;33m(\u001b[0m\u001b[0mapple_header\u001b[0m\u001b[1;33m)\u001b[0m\u001b[1;33m\u001b[0m\u001b[1;33m\u001b[0m\u001b[0m\n",
      "\u001b[1;31mNameError\u001b[0m: name 'google_header' is not defined"
     ]
    }
   ],
   "source": [
    "#inspect column names to identify which columns are most important\n",
    "print(google_header)\n",
    "print(apple_header)"
   ]
  },
  {
   "cell_type": "markdown",
   "metadata": {},
   "source": [
    "## Data Preparation"
   ]
  },
  {
   "cell_type": "code",
   "execution_count": null,
   "metadata": {
    "collapsed": true
   },
   "outputs": [],
   "source": [
    "#detect row that is not the same length as the header row\n",
    "#if all rows are the same, there will be no output\n",
    "for row in google:\n",
    "    header_length = len(google_header)\n",
    "    row_length = len(row)\n",
    "    if row_length != header_length:\n",
    "        print(row)\n",
    "        print(google.index(row))\n",
    "  \n",
    "#delete row\n",
    "del google[10472]"
   ]
  },
  {
   "cell_type": "code",
   "execution_count": null,
   "metadata": {
    "collapsed": true
   },
   "outputs": [],
   "source": [
    "#detect row that is not the same length as the header row\n",
    "#if all rows are the same, there will be no output\n",
    "for row in apple:\n",
    "    header_length = len(apple_header)\n",
    "    row_length = len(row)\n",
    "    if row_length != header_length:\n",
    "        print(row)\n",
    "        print(apple.index(row))"
   ]
  },
  {
   "cell_type": "code",
   "execution_count": null,
   "metadata": {
    "collapsed": true
   },
   "outputs": [],
   "source": [
    "#detect duplicates\n",
    "google_duplicate_apps = []\n",
    "google_duplicate_indices = []\n",
    "google_unique_apps = []\n",
    "\n",
    "for row in google:\n",
    "    name = row[0]\n",
    "    if name in google_unique_apps:\n",
    "        google_duplicate_apps.append(name)            \n",
    "    else:\n",
    "        google_unique_apps.append(name)\n",
    "    \n",
    "print('Number of duplicate apps:', len(google_duplicate_apps))"
   ]
  },
  {
   "cell_type": "code",
   "execution_count": null,
   "metadata": {
    "collapsed": true
   },
   "outputs": [],
   "source": [
    "#create for loop to eliminate duplicate apps from Google Play Store data set\n",
    "reviews_max = {}\n",
    "\n",
    "for row in google:\n",
    "    name = row[0]\n",
    "    n_reviews = float(row[3])\n",
    "    \n",
    "    if name in reviews_max and reviews_max[name] < n_reviews:\n",
    "        reviews_max[name] = n_reviews\n",
    "        \n",
    "    elif name not in reviews_max:\n",
    "        reviews_max[name] = n_reviews\n",
    "    \n",
    "print('Number of duplicate apps:', len(reviews_max))"
   ]
  },
  {
   "cell_type": "markdown",
   "metadata": {},
   "source": [
    "First, two empty lists are created: `google_clean` and `already_added`. The for loop below will go through the Google data set and put the apps' name in the `already_added` list and the apps' updated number of reviews in the `google_clean` list. "
   ]
  },
  {
   "cell_type": "code",
   "execution_count": null,
   "metadata": {
    "collapsed": true
   },
   "outputs": [],
   "source": [
    "\n",
    "google_clean = []\n",
    "already_added = []\n",
    "\n",
    "for row in google:\n",
    "    app_name = row[0]\n",
    "    n_reviews = float(row[3])\n",
    "    \n",
    "    if reviews_max[app_name] == n_reviews and app_name not in already_added:\n",
    "        google_clean.append(row)\n",
    "        already_added.append(app_name)\n",
    "        \n",
    "print('Number of duplicate apps:', len(google_clean))"
   ]
  },
  {
   "cell_type": "code",
   "execution_count": null,
   "metadata": {
    "collapsed": true
   },
   "outputs": [],
   "source": [
    "#detect duplicates\n",
    "duplicate_apps = []\n",
    "unique_apps = []\n",
    "\n",
    "for app in apple:\n",
    "    name = app[0]\n",
    "    if name in unique_apps:\n",
    "        duplicate_apps.append(name)\n",
    "    else:\n",
    "        unique_apps.append(name)\n",
    "    \n",
    "print('Number of duplicate apps:', len(duplicate_apps))"
   ]
  },
  {
   "cell_type": "markdown",
   "metadata": {
    "collapsed": true
   },
   "source": [
    "Our company wants to focus on English only apps. Let's detect and eliminate non-English apps in either data set. \n",
    "\n",
    "English characters correspond to numbers less than 127. The scan function will tell the user if the string is English by returning True or Non-English by returning False. \n",
    "\n",
    "Some examples are included to test the function."
   ]
  },
  {
   "cell_type": "code",
   "execution_count": null,
   "metadata": {
    "collapsed": true
   },
   "outputs": [],
   "source": [
    "def is_english(string):\n",
    "    for character in string:\n",
    "        if ord(character) > 127:\n",
    "            return False\n",
    "        elif ord(character) < 127:\n",
    "            return True\n",
    "    \n",
    "print(is_english('Docs To Go™ Free Office Suite'))\n",
    "print(is_english('Instachat 😜'))\n",
    "print(is_english('😜'))\n",
    "print(is_english('爱奇艺PPS -《欢乐颂2》电视剧热播'))"
   ]
  },
  {
   "cell_type": "markdown",
   "metadata": {},
   "source": [
    "The function is not evaluating emojis correctly so improvements to the function are written below. The previous examples are used to test the function."
   ]
  },
  {
   "cell_type": "code",
   "execution_count": null,
   "metadata": {
    "collapsed": true
   },
   "outputs": [],
   "source": [
    "def is_english(string):\n",
    "    for character in string:\n",
    "        non_ascii = 0\n",
    "        if ord(character) > 127:\n",
    "            non_ascii += 1\n",
    "            \n",
    "        if non_ascii > 3:\n",
    "            return False\n",
    "        else:\n",
    "            return True\n",
    "    \n",
    "print(is_english('Docs To Go™ Free Office Suite'))\n",
    "print(is_english('Instachat 😜'))\n",
    "print(is_english('😜'))\n",
    "print(is_english('爱奇艺PPS -《欢乐颂2》电视剧热播'))"
   ]
  },
  {
   "cell_type": "markdown",
   "metadata": {},
   "source": [
    "The is_english function will check that all apps in either data set contain only english apps. Explore each data set."
   ]
  },
  {
   "cell_type": "code",
   "execution_count": null,
   "metadata": {
    "collapsed": true,
    "scrolled": true
   },
   "outputs": [],
   "source": [
    "google_english_apps = []\n",
    "\n",
    "for row in google_clean:\n",
    "    app_name = row[0]\n",
    "    if is_english(app_name) == True:\n",
    "        google_english_apps.append(row)\n",
    "         \n",
    "explore_data(google_english_apps, 0, 4, True)"
   ]
  },
  {
   "cell_type": "code",
   "execution_count": null,
   "metadata": {
    "collapsed": true,
    "scrolled": true
   },
   "outputs": [],
   "source": [
    "apple_english_apps = []\n",
    "\n",
    "for row in apple:\n",
    "    app_name = row[1]\n",
    "    if is_english(app_name)== True:\n",
    "        apple_english_apps.append(row)\n",
    "        \n",
    "explore_data(apple_english_apps, 0, 4, True)"
   ]
  },
  {
   "cell_type": "markdown",
   "metadata": {},
   "source": [
    "Since the company is only interested in the free apps. Isolate the free apps from the Google Play Store data set and the Apple Store data sets."
   ]
  },
  {
   "cell_type": "code",
   "execution_count": null,
   "metadata": {
    "collapsed": true
   },
   "outputs": [],
   "source": [
    "#isolate the free apps from the Google Play Store data set\n",
    "free_google_english_apps = []\n",
    "\n",
    "for row in google_english_apps:\n",
    "    price = row[7]\n",
    "    if price == '0':\n",
    "        free_google_english_apps.append(row)\n",
    "\n",
    "#print the length of the Google Play Store data set      \n",
    "print(len(free_google_english_apps))"
   ]
  },
  {
   "cell_type": "code",
   "execution_count": null,
   "metadata": {
    "collapsed": true
   },
   "outputs": [],
   "source": [
    "#isolate the free apps from the App Store data set\n",
    "free_apple_english_apps = []\n",
    "\n",
    "for row in apple_english_apps:\n",
    "    price = row[4]\n",
    "    \n",
    "    if price == '0.0':\n",
    "        free_apple_english_apps.append(row)\n",
    "\n",
    "#print the length of the App Store data set      \n",
    "print(len(free_apple_english_apps))"
   ]
  },
  {
   "cell_type": "markdown",
   "metadata": {},
   "source": [
    "## Aim and validation strategy of the analysis"
   ]
  },
  {
   "cell_type": "markdown",
   "metadata": {},
   "source": [
    "The aim of the analysis is to determine the kinds of apps that are likely to attract more users so that the company's revenue will increase."
   ]
  },
  {
   "cell_type": "markdown",
   "metadata": {},
   "source": [
    "To minimize risks and overhead, the validation strategy for an app idea is comprised of three steps:\n",
    "\n",
    "* Build a minimal Android version of the app, and add it to Google Play.\n",
    "* If the app has a good response from users, develop it further\n",
    "* If the app is profitable after six months, we build an iOS version of the app and add it to the App Store."
   ]
  },
  {
   "cell_type": "markdown",
   "metadata": {},
   "source": [
    "## Build frequency tables for the most common genres for apps in Google Play and App Store"
   ]
  },
  {
   "cell_type": "markdown",
   "metadata": {},
   "source": [
    "The most common genres are `prime_genre`, `Genres`, and `Category`. Two function will be used to analyze the frequency tables. One function to generate the frequency tables that show percentages. Another function to display the percentages in descending order."
   ]
  },
  {
   "cell_type": "code",
   "execution_count": null,
   "metadata": {
    "collapsed": true
   },
   "outputs": [],
   "source": [
    "#define a function to create a frequency table\n",
    "def freq_table(dataset, index):\n",
    "    table = {}\n",
    "    total = 0\n",
    "    #build frequency table\n",
    "    for row in dataset:\n",
    "        total += 1\n",
    "        app = row[index]\n",
    "        if app in table:\n",
    "            table[app] += 1\n",
    "        else:\n",
    "            table[app] = 1\n",
    "    #convert the frequecy from integers to decimals\n",
    "    table_percentages = {}\n",
    "    for variable in table:\n",
    "        percentage = (table[variable] / total) * 100\n",
    "        #assign apps to their percetages\n",
    "        table_percentages[variable] = percentage\n",
    "    return table_percentages\n",
    "\n",
    "#define a function to display a frequency table\n",
    "def display_table(dataset, index):\n",
    "    table = freq_table(dataset, index)\n",
    "    table_display = []\n",
    "    for key in table:\n",
    "        key_val_as_tuple = (table[key], key)\n",
    "        table_display.append(key_val_as_tuple)\n",
    "\n",
    "    table_sorted = sorted(table_display, reverse = True)\n",
    "    for entry in table_sorted:\n",
    "        print(entry[1], ':', entry[0])"
   ]
  },
  {
   "cell_type": "markdown",
   "metadata": {},
   "source": [
    "Let's build the frequency tables for both data sets!"
   ]
  },
  {
   "cell_type": "code",
   "execution_count": null,
   "metadata": {
    "collapsed": true
   },
   "outputs": [],
   "source": [
    "#create a genres frequency table using Google Play Store data set\n",
    "google_genres = freq_table(free_google_english_apps, -4)\n",
    "\n",
    "#create a category frequency table using Google Play Store data set\n",
    "google_category = freq_table(free_google_english_apps, 1)"
   ]
  },
  {
   "cell_type": "code",
   "execution_count": null,
   "metadata": {
    "collapsed": true
   },
   "outputs": [],
   "source": [
    "#create a prime_genre frequency table using App Store data set\n",
    "apple_freq_table = freq_table(free_apple_english_apps, -5)"
   ]
  },
  {
   "cell_type": "markdown",
   "metadata": {},
   "source": [
    "Now, focus on analyzing the three frequency tables."
   ]
  },
  {
   "cell_type": "code",
   "execution_count": null,
   "metadata": {
    "collapsed": true
   },
   "outputs": [],
   "source": [
    "#display the genres column in the Google Play Store data set\n",
    "display_table(free_google_english_apps, -4)"
   ]
  },
  {
   "cell_type": "code",
   "execution_count": null,
   "metadata": {
    "collapsed": true
   },
   "outputs": [],
   "source": [
    "#display the category column in the Google Play Store data set\n",
    "display_table(free_google_english_apps, 1)"
   ]
  },
  {
   "cell_type": "code",
   "execution_count": null,
   "metadata": {
    "collapsed": true
   },
   "outputs": [],
   "source": [
    "#display the prime_genre column in the Google Play Store data set\n",
    "display_table(free_apple_english_apps, -5)"
   ]
  },
  {
   "cell_type": "markdown",
   "metadata": {
    "collapsed": true
   },
   "source": [
    "# Calculating the Most Popular Apps by Genre from App Store"
   ]
  },
  {
   "cell_type": "code",
   "execution_count": null,
   "metadata": {
    "collapsed": true
   },
   "outputs": [],
   "source": [
    "#create a prime_genre frequency table using App Store data set\n",
    "genre_apple = freq_table(free_apple_english_apps, -5)\n",
    "\n",
    "#loop over unique genres in App Store with interation variable 'genre'\n",
    "for genre in genre_apple:\n",
    "    #initiate 'total' varaiable with value 0\n",
    "    total = 0\n",
    "    #initiate 'len_genre' variable with value 0\n",
    "    len_genre = 0\n",
    "    \n",
    "    #loop over preprocessed App Store data set with interation variable 'app'\n",
    "    for app in free_apple_english_apps:\n",
    "        #save app genre to 'genre_app' variable\n",
    "        genre_app = app[-5]\n",
    "        #condtional statement\n",
    "        #if the genre column in the frequecy table matches the preprocessed App Store data set\n",
    "        if genre_app == genre:\n",
    "            #save the number of user ratings as a float\n",
    "            user_rating = float(app[5])\n",
    "            total += user_rating\n",
    "            len_genre += 1\n",
    "    #calculate the average for each genre        \n",
    "    avg = total / len_genre\n",
    "    print(genre, ':', avg)\n",
    "    "
   ]
  },
  {
   "cell_type": "markdown",
   "metadata": {},
   "source": [
    "# Calculating the Most Popular Apps by Genre from the Google Play Store"
   ]
  },
  {
   "cell_type": "code",
   "execution_count": null,
   "metadata": {
    "collapsed": true,
    "scrolled": true
   },
   "outputs": [],
   "source": [
    "#create a category frequency table using Google Play Store data set\n",
    "category_google = freq_table(free_google_english_apps, 1)\n",
    "\n",
    "#loop over unique categories in Google Play Store with interation variable 'category'\n",
    "for category in category_google:\n",
    "    #initiate 'total' varaiable with value 0\n",
    "    total = 0\n",
    "    #initiate 'len_category' variable with value 0\n",
    "    len_category = 0\n",
    "    \n",
    "    #loop over preprocessed Google Play Store data set with interation variable 'app'\n",
    "    for app in free_google_english_apps:\n",
    "        #save app category to 'category_app' variable\n",
    "        category_app = app[1]\n",
    "        #condtional statement\n",
    "        #if the category column in the frequecy table matches the preprocessed Google Play Store data set\n",
    "        if category_app == category:\n",
    "            #save the number of installs\n",
    "            n_install = app[5]\n",
    "            #remove commas\n",
    "            n_install = n_install.replace(',', '')\n",
    "            #remove plus signs \n",
    "            n_install = n_install.replace('+', '')\n",
    "            total += float(n_install)\n",
    "            len_category += 1\n",
    "    #calculate the average for each category        \n",
    "    avg = total / len_category\n",
    "    print(category, ':', avg)"
   ]
  }
 ],
 "metadata": {
  "kernelspec": {
   "display_name": "Python 3",
   "language": "python",
   "name": "python3"
  },
  "language_info": {
   "codemirror_mode": {
    "name": "ipython",
    "version": 3
   },
   "file_extension": ".py",
   "mimetype": "text/x-python",
   "name": "python",
   "nbconvert_exporter": "python",
   "pygments_lexer": "ipython3",
   "version": "3.4.3"
  }
 },
 "nbformat": 4,
 "nbformat_minor": 2
}
